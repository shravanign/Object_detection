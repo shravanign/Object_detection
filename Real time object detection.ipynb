{
 "cells": [
  {
   "cell_type": "code",
   "execution_count": 1,
   "metadata": {},
   "outputs": [],
   "source": [
    "import cv2 \n",
    "import numpy as np"
   ]
  },
  {
   "cell_type": "code",
   "execution_count": 2,
   "metadata": {},
   "outputs": [],
   "source": [
    "config_file='yolov3.cfg' \n",
    "weights_file= 'yolov3.weights' \n",
    "class_file='yolov3.txt' "
   ]
  },
  {
   "cell_type": "code",
   "execution_count": 3,
   "metadata": {},
   "outputs": [],
   "source": [
    "img_file = 'dog.jpg' "
   ]
  },
  {
   "cell_type": "code",
   "execution_count": 4,
   "metadata": {},
   "outputs": [],
   "source": [
    "def resizeframe(image, width=500):    \n",
    "    w = float(width)    \n",
    "    r = w / image.shape[1]    \n",
    "    dim = (width, int(image.shape[0] * r))    \n",
    "    resized = cv2.resize(image, dim, interpolation = cv2.INTER_AREA)    \n",
    "    xr = dim[0]/float(image.shape[1])    \n",
    "    yr = dim[1]/float(image.shape[0])    \n",
    "    return resized "
   ]
  },
  {
   "cell_type": "code",
   "execution_count": 5,
   "metadata": {},
   "outputs": [],
   "source": [
    "def get_output_layers(net):        \n",
    "    layer_names = net.getLayerNames()        \n",
    "    output_layers = [layer_names[i[0] - 1] for i in net.getUnconnectedOutLayers()]    \n",
    "    return output_layers "
   ]
  },
  {
   "cell_type": "code",
   "execution_count": 6,
   "metadata": {},
   "outputs": [],
   "source": [
    "def draw_prediction(img, class_id, confidence, x, y, x_plus_w, y_plus_h):    \n",
    "    label = str(classes[class_id])    \n",
    "    color = COLORS[class_id]    \n",
    "    cv2.rectangle(img, (x,y), (x_plus_w,y_plus_h), color, 2)    \n",
    "    cv2.putText(img, label, (x-10,y-10), cv2.FONT_HERSHEY_SIMPLEX, 0.5, color, 2) "
   ]
  },
  {
   "cell_type": "code",
   "execution_count": 7,
   "metadata": {},
   "outputs": [],
   "source": [
    "scale = 0.00392 \n",
    "classes = None \n",
    "with open(class_file, 'r') as f:    \n",
    "    classes = [line.strip() for line in f.readlines()] \n",
    "COLORS = np.random.uniform(0, 255, size=(len(classes), 3)) \n",
    "net = cv2.dnn.readNet(weights_file, config_file) "
   ]
  },
  {
   "cell_type": "code",
   "execution_count": 8,
   "metadata": {},
   "outputs": [],
   "source": [
    "def yolov3_predict(image):    \n",
    "    Width = image.shape[1]    \n",
    "    Height = image.shape[0]    \n",
    "    blob = cv2.dnn.blobFromImage(image, scale, (416,416), (0,0,0), True, crop=False)    \n",
    "    net.setInput(blob)    \n",
    "    outs = net.forward(get_output_layers(net)) \n",
    "    class_ids = []    \n",
    "    confidences = []    \n",
    "    boxes = []    \n",
    "    conf_threshold = 0.5    \n",
    "    nms_threshold = 0.4 \n",
    "    for out in outs:        \n",
    "        for detection in out:            \n",
    "            scores = detection[5:]            \n",
    "            class_id = np.argmax(scores)            \n",
    "            confidence = scores[class_id]            \n",
    "            if confidence > 0.5:                \n",
    "                center_x = int(detection[0] * Width)                \n",
    "                center_y = int(detection[1] * Height)                \n",
    "                w = int(detection[2] * Width)                \n",
    "                h = int(detection[3] * Height)                \n",
    "                x = center_x - w / 2                \n",
    "                y = center_y - h / 2                \n",
    "                class_ids.append(class_id)                \n",
    "                confidences.append(float(confidence))                \n",
    "                boxes.append([x, y, w, h]) \n",
    "    indices = cv2.dnn.NMSBoxes(boxes, confidences, conf_threshold, nms_threshold) \n",
    "    for i in indices:        \n",
    "        i = i[0]        \n",
    "        box = boxes[i]        \n",
    "        x = box[0]        \n",
    "        y = box[1]        \n",
    "        w = box[2]        \n",
    "        h = box[3]        \n",
    "        draw_prediction(image, class_ids[i], confidences[i], round(x), round(y), round( x+w), round(y+h))"
   ]
  },
  {
   "cell_type": "code",
   "execution_count": 9,
   "metadata": {},
   "outputs": [],
   "source": [
    "def yolov3_predict_file(img_file):    \n",
    "    image = cv2.imread(img_file)    \n",
    "    yolov3_predict(image)    \n",
    "    cv2.imshow(\"object detection\", image)    \n",
    "    cv2.waitKey()    #cv2.imwrite(\"object-detection.jpg\", image)    \n",
    "    cv2.destroyAllWindows() "
   ]
  },
  {
   "cell_type": "code",
   "execution_count": 11,
   "metadata": {},
   "outputs": [],
   "source": [
    "cap1 = cv2.VideoCapture(0)    #(videofile) \n",
    "face_counter = 0 \n",
    "flag = True \n",
    "frameno = 0 \n",
    "frameinterval = 1  #10 \n",
    "while cap1.isOpened():    \n",
    "    ret1, frame1 = cap1.read()    \n",
    "    frameno += 1    \n",
    "    if not ((frameno % frameinterval) == 0):        \n",
    "        continue    \n",
    "    if ret1 :        \n",
    "        frame1 = resizeframe(frame1)        \n",
    "        frame = frame1.copy()        \n",
    "        cv2.imshow('Frames- pause p; resume r; quit q',frame) \n",
    "        if cv2.waitKey(1) & 0xFF == ord('p'):   #pause            \n",
    "            while (True):                \n",
    "                if flag:                    \n",
    "                    yolov3_predict(frame)                    \n",
    "                    cv2.imshow('Frames- pause p; resume r; quit q',frame)                    \n",
    "                    flag = False                \n",
    "                if cv2.waitKey(1) & 0xFF == ord('r'):   #resume                    \n",
    "                    flag = True                    \n",
    "                    break \n",
    "        if cv2.waitKey(10) & 0xFF == ord('q'):   #quit            \n",
    "            break    \n",
    "    else:        \n",
    "        break \n",
    "cap1.release() \n",
    "cv2.destroyAllWindows() "
   ]
  },
  {
   "cell_type": "code",
   "execution_count": null,
   "metadata": {},
   "outputs": [],
   "source": []
  }
 ],
 "metadata": {
  "kernelspec": {
   "display_name": "campenv",
   "language": "python",
   "name": "campenv"
  },
  "language_info": {
   "codemirror_mode": {
    "name": "ipython",
    "version": 3
   },
   "file_extension": ".py",
   "mimetype": "text/x-python",
   "name": "python",
   "nbconvert_exporter": "python",
   "pygments_lexer": "ipython3",
   "version": "3.6.6"
  }
 },
 "nbformat": 4,
 "nbformat_minor": 2
}
